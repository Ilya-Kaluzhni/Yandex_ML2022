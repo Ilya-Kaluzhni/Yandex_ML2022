{
 "cells": [
  {
   "cell_type": "markdown",
   "metadata": {
    "id": "view-in-github"
   },
   "source": [
    "<a href=\"https://colab.research.google.com/github/yandexdataschool/MLatImperial2022/blob/master/Seminars/ML_kaggle_2_challenge.ipynb\" target=\"_parent\"><img src=\"https://colab.research.google.com/assets/colab-badge.svg\" alt=\"Open In Colab\"/></a>"
   ]
  },
  {
   "cell_type": "markdown",
   "metadata": {
    "id": "yRrjMtqAoXHx"
   },
   "source": [
    "## Do not forget to click Runtime -> Change Runtime type -> Hardware accelerator ->GPU"
   ]
  },
  {
   "cell_type": "markdown",
   "metadata": {
    "id": "JybtM5m4GXUO"
   },
   "source": [
    "# !Link to challenge!"
   ]
  },
  {
   "cell_type": "markdown",
   "metadata": {
    "id": "dmaKRkuCGXUX"
   },
   "source": [
    "# https://www.kaggle.com/t/62c77c4320794415b2541bd674bb0987"
   ]
  },
  {
   "cell_type": "markdown",
   "metadata": {
    "id": "3AwYnV7mX52h"
   },
   "source": [
    "\n",
    "\n",
    "---\n",
    "\n",
    "\n",
    "<img src=\"https://mediaarchive.cern.ch/MediaArchive/Photo/Public/1998/9803027/9803027/9803027-A5-at-72-dpi.jpg\" alt=\"CMS_1\" width=\"1000\" height=\"600\">\n",
    "\n",
    "\n",
    "---\n",
    "\n"
   ]
  },
  {
   "cell_type": "markdown",
   "metadata": {
    "id": "ZayTkoIyYnJr"
   },
   "source": [
    "\n",
    "\n",
    "---\n",
    "\n",
    "\n",
    "<img src=\"https://cds.cern.ch/record/2120661/files/CMSslice_whiteBackground.png?version=1\" alt=\"CMS_2\" width=\"1000\" height=\"600\">\n",
    "\n",
    "\n",
    "---\n",
    "\n"
   ]
  },
  {
   "cell_type": "markdown",
   "metadata": {
    "id": "dpJQMCqoZ7Xi"
   },
   "source": [
    "\n",
    "\n",
    "---\n",
    "\n",
    "\n",
    "<img src=\"https://cms.cern/sites/default/files/field/image/Sketch_PartonParticleCaloJet.png\" alt=\"CMS_3\" width=\"900\" height=\"400\">\n",
    "\n",
    "\n",
    "---\n",
    "\n"
   ]
  },
  {
   "cell_type": "markdown",
   "metadata": {
    "id": "HmvEk0WXaQwB"
   },
   "source": [
    " **Jets at CMS:** https://cms.cern/news/jets-cms-and-determination-their-energy-scale"
   ]
  },
  {
   "cell_type": "markdown",
   "metadata": {
    "id": "trrvOsKUchLo"
   },
   "source": [
    "\n",
    "\n",
    "---\n",
    "\n",
    "\n",
    "<img src=\"https://cds.cern.ch/record/2048099/files/Figure_002-a.png\" alt=\"CMS_4\" width=\"1000\" height=\"700\">\n",
    "\n",
    "\n",
    "---\n",
    "\n"
   ]
  },
  {
   "cell_type": "markdown",
   "metadata": {
    "id": "Gd_eJrz44j9h"
   },
   "source": [
    "As before - mount drive, download data"
   ]
  },
  {
   "cell_type": "code",
   "execution_count": null,
   "metadata": {
    "colab": {
     "base_uri": "https://localhost:8080/"
    },
    "executionInfo": {
     "elapsed": 2559,
     "status": "ok",
     "timestamp": 1643676078297,
     "user": {
      "displayName": "Сергей Сергеевич Корпачев",
      "photoUrl": "https://lh3.googleusercontent.com/a/default-user=s64",
      "userId": "15980929552650675205"
     },
     "user_tz": -180
    },
    "id": "mUxPuR2IAQth",
    "outputId": "b90846f9-d056-4e89-f025-46d63d15dbca"
   },
   "outputs": [],
   "source": [
    "from google.colab import drive\n",
    "drive.mount('/content/gdrive')"
   ]
  },
  {
   "cell_type": "code",
   "execution_count": null,
   "metadata": {
    "executionInfo": {
     "elapsed": 404,
     "status": "ok",
     "timestamp": 1643676081514,
     "user": {
      "displayName": "Сергей Сергеевич Корпачев",
      "photoUrl": "https://lh3.googleusercontent.com/a/default-user=s64",
      "userId": "15980929552650675205"
     },
     "user_tz": -180
    },
    "id": "vQ6NgIT96s1Y"
   },
   "outputs": [],
   "source": [
    "DATA_PREFIX = \"/content/gdrive/My Drive/kaggle_2/\""
   ]
  },
  {
   "cell_type": "code",
   "execution_count": null,
   "metadata": {
    "colab": {
     "base_uri": "https://localhost:8080/",
     "height": 300
    },
    "executionInfo": {
     "elapsed": 11,
     "status": "error",
     "timestamp": 1643670477181,
     "user": {
      "displayName": "Сергей Сергеевич Корпачев",
      "photoUrl": "https://lh3.googleusercontent.com/a/default-user=s64",
      "userId": "15980929552650675205"
     },
     "user_tz": -180
    },
    "id": "3A6yDXrOaGgd",
    "outputId": "79cc7cd3-8a29-4597-fb14-6d202afd3d37"
   },
   "outputs": [],
   "source": [
    "import os\n",
    "os.makedirs(DATA_PREFIX)"
   ]
  },
  {
   "cell_type": "code",
   "execution_count": null,
   "metadata": {
    "id": "D0sdJcR-47d_"
   },
   "outputs": [],
   "source": [
    "!mkdir /root/.kaggle\n",
    "!cp /content/gdrive/My\\ Drive/kaggle.json /root/.kaggle/\n",
    "!chmod 600 /root/.kaggle/kaggle.json\n",
    "!ls -l /root/.kaggle"
   ]
  },
  {
   "cell_type": "code",
   "execution_count": null,
   "metadata": {
    "colab": {
     "base_uri": "https://localhost:8080/"
    },
    "executionInfo": {
     "elapsed": 2151,
     "status": "ok",
     "timestamp": 1643664080370,
     "user": {
      "displayName": "Сергей Сергеевич Корпачев",
      "photoUrl": "https://lh3.googleusercontent.com/a/default-user=s64",
      "userId": "15980929552650675205"
     },
     "user_tz": -180
    },
    "id": "HZcU2zfcBV8l",
    "outputId": "305a853b-7711-4fa5-ad5e-412e62e5ee81"
   },
   "outputs": [],
   "source": [
    "!pip install --upgrade --force-reinstall --no-deps kaggle"
   ]
  },
  {
   "cell_type": "code",
   "execution_count": null,
   "metadata": {
    "colab": {
     "base_uri": "https://localhost:8080/"
    },
    "executionInfo": {
     "elapsed": 5954,
     "status": "ok",
     "timestamp": 1643662430300,
     "user": {
      "displayName": "Сергей Сергеевич Корпачев",
      "photoUrl": "https://lh3.googleusercontent.com/a/default-user=s64",
      "userId": "15980929552650675205"
     },
     "user_tz": -180
    },
    "id": "sv2fxrvm4-SR",
    "outputId": "bd3124ce-0d57-4871-fe0b-b1fe2d12db29"
   },
   "outputs": [],
   "source": [
    "!kaggle competitions download --force -c ml-icl2022-jet -p '{DATA_PREFIX}'\n",
    "\n",
    "!unzip -q '{DATA_PREFIX}/ml-icl2022-jet.zip' -d '{DATA_PREFIX}'\n",
    "\n",
    "!chmod +rw '{DATA_PREFIX}/kaggle_2_train.h5'\n",
    "!chmod +rw '{DATA_PREFIX}/kaggle_2_test.h5'\n",
    "!rm -r '{DATA_PREFIX}/ml-icl2022-jet.zip'"
   ]
  },
  {
   "cell_type": "code",
   "execution_count": null,
   "metadata": {},
   "outputs": [],
   "source": [
    "!ls '{DATA_PREFIX}'"
   ]
  },
  {
   "cell_type": "code",
   "execution_count": null,
   "metadata": {
    "colab": {
     "base_uri": "https://localhost:8080/",
     "height": 317
    },
    "executionInfo": {
     "elapsed": 6,
     "status": "error",
     "timestamp": 1643661501224,
     "user": {
      "displayName": "Сергей Сергеевич Корпачев",
      "photoUrl": "https://lh3.googleusercontent.com/a/default-user=s64",
      "userId": "15980929552650675205"
     },
     "user_tz": -180
    },
    "id": "JvjMk58D5Ar4",
    "outputId": "83c6de2d-0301-48be-c3a1-2a9a3e0bbd7d"
   },
   "outputs": [],
   "source": [
    "# Create folder to save NN snapshots during training\n",
    "os.makedirs(os.path.join(\"/content/gdrive/My Drive/kaggle_2\", \"nn_snapshots\"))"
   ]
  },
  {
   "cell_type": "markdown",
   "metadata": {
    "id": "hat06lTTrfnz"
   },
   "source": [
    "# Metric - ROC AUC"
   ]
  },
  {
   "cell_type": "markdown",
   "metadata": {
    "id": "ZKjZkER2rdWb"
   },
   "source": [
    "Your task is to try as many techniques that you have learned this week as possible.\n",
    "\n",
    "The outcome of your work should be a properly documented jupyter notebook, that contains all the experiments you did + your explanations/comments on them. Also, you need to send the code.\n",
    "\n",
    "The archive with the file should be sent to mlicl-2022-seminars@mail.ru with the topic: **Surname_name_kaggle_2**\n",
    "\n",
    "The total amount of points is 10.\n",
    "\n",
    "** 1 Point **\n",
    "\n",
    "Try different layers, such as Dropout, BN, different poolings, convs. Do all of them work? Why?\n",
    "\n",
    "** 1 Point **\n",
    "\n",
    "Try different depth of network, different order of layers. What do you observe?\n",
    "\n",
    "** 1 Point **\n",
    "\n",
    "Try different activations, i.e. relu, sigmoid, tanh etc. Do all of them work? Why?\n",
    "\n",
    "** 1 Point **\n",
    "\n",
    "Try different optimisers, i.e. SGD, SGD with momentum, Adam. Which you find the best? Which converges faster?\n",
    "\n",
    "** 1 Points **\n",
    "\n",
    "Change optimisation loop/optimiser to set up decay of learning rate by the scheme of your choice, abort training by stopping criteria of your choice.\n",
    "\n",
    "** 1 Points **\n",
    "\n",
    "Augment (rotation, jitter, reflection, ...) you data using symmetries in the data.\n",
    "\n",
    "** 2 Points **\n",
    "\n",
    "Use pretrained nets / part of nets. Does this technique improve the score?\n",
    "You may need small learning rate to produce only slight changes to the pretrained model.\n",
    "\n",
    "** 2 Points **\n",
    "\n",
    "Add manually created custom features to your network. Does this technique improve the score of the task?\n",
    "\n",
    "\n"
   ]
  },
  {
   "cell_type": "markdown",
   "metadata": {
    "id": "G6SSIV_fxll-"
   },
   "source": [
    "# Util functions to preprocess and work with data"
   ]
  },
  {
   "cell_type": "code",
   "execution_count": null,
   "metadata": {
    "executionInfo": {
     "elapsed": 515,
     "status": "ok",
     "timestamp": 1643676087615,
     "user": {
      "displayName": "Сергей Сергеевич Корпачев",
      "photoUrl": "https://lh3.googleusercontent.com/a/default-user=s64",
      "userId": "15980929552650675205"
     },
     "user_tz": -180
    },
    "id": "jcYBjvepxgEQ"
   },
   "outputs": [],
   "source": [
    "def read_data(data, is_train=True, start_ind=0, end_ind=0):\n",
    "    layer_hcal = np.expand_dims(data['all_events']['histHCAL'][start_ind : end_ind], -1).astype(np.float32)\n",
    "    layer_em = np.expand_dims(data['all_events']['histEM'][start_ind : end_ind], -1).astype(np.float32)\n",
    "    layer_track = np.expand_dims(data['all_events']['histtrack'][start_ind : end_ind], -1).astype(np.float32)\n",
    "    \n",
    "    hit_map = np.concatenate((layer_hcal, layer_em, layer_track), axis=-1).astype(np.float32)\n",
    "    hit_map = np.rollaxis(hit_map, 3, 1)\n",
    "    hit_map = (hit_map - hit_map.mean(axis=0, keepdims=True)) / hit_map.std(axis=0, keepdims=True)\n",
    "    answers = None\n",
    "    if is_train:\n",
    "        answers = np.expand_dims(data['all_events']['y'][start_ind : end_ind], -1)\n",
    "    return hit_map, answers\n",
    "  \n",
    "def save_data_in_chunks(data, chunk_size):\n",
    "    for index, step in enumerate(range(0, len(data['all_events']['histHCAL']), chunk_size)):\n",
    "        X, y = read_data(train, True, step, step + chunk_size)\n",
    "        X_train, X_val, y_train, y_val = train_test_split(X, y, train_size=0.9, random_state=42)\n",
    "        np.save(\"X_train_{}\".format(index) , X_train)\n",
    "        np.save(\"y_train_{}\".format(index) , y_train)        \n",
    "        np.save(\"X_val_{}\".format(index) , X_val)\n",
    "        np.save(\"y_val_{}\".format(index) , y_val)\n",
    "        del X, y, X_train, X_val, y_train, y_val\n",
    "        gc.collect()\n",
    "        print(\"Done:{}\".format(index))  "
   ]
  },
  {
   "cell_type": "markdown",
   "metadata": {
    "id": "w248AVRhGXUd"
   },
   "source": [
    "## import standard packages"
   ]
  },
  {
   "cell_type": "code",
   "execution_count": null,
   "metadata": {
    "executionInfo": {
     "elapsed": 514,
     "status": "ok",
     "timestamp": 1643676090277,
     "user": {
      "displayName": "Сергей Сергеевич Корпачев",
      "photoUrl": "https://lh3.googleusercontent.com/a/default-user=s64",
      "userId": "15980929552650675205"
     },
     "user_tz": -180
    },
    "id": "LwmX7UoxGXVO"
   },
   "outputs": [],
   "source": [
    "import gc\n",
    "import numpy as np\n",
    "import pickle\n",
    "import os\n",
    "import matplotlib.pyplot as plt\n",
    "%matplotlib inline\n",
    "import scipy\n",
    "from sklearn.metrics import accuracy_score\n",
    "from sklearn.metrics import roc_auc_score\n",
    "from sklearn.model_selection import train_test_split"
   ]
  },
  {
   "cell_type": "markdown",
   "metadata": {
    "id": "3jo5_KXSGXVV"
   },
   "source": [
    "## import torch and h5 data format parser"
   ]
  },
  {
   "cell_type": "code",
   "execution_count": null,
   "metadata": {
    "executionInfo": {
     "elapsed": 394,
     "status": "ok",
     "timestamp": 1643676098580,
     "user": {
      "displayName": "Сергей Сергеевич Корпачев",
      "photoUrl": "https://lh3.googleusercontent.com/a/default-user=s64",
      "userId": "15980929552650675205"
     },
     "user_tz": -180
    },
    "id": "YfQUq4w9GXVX"
   },
   "outputs": [],
   "source": [
    "import h5py\n",
    "import torch"
   ]
  },
  {
   "cell_type": "markdown",
   "metadata": {
    "id": "NvVq5p2SyGFM"
   },
   "source": [
    "## Create small batches of train data locally (will be deleted after restart of the session)"
   ]
  },
  {
   "cell_type": "code",
   "execution_count": null,
   "metadata": {
    "executionInfo": {
     "elapsed": 3,
     "status": "ok",
     "timestamp": 1643676098983,
     "user": {
      "displayName": "Сергей Сергеевич Корпачев",
      "photoUrl": "https://lh3.googleusercontent.com/a/default-user=s64",
      "userId": "15980929552650675205"
     },
     "user_tz": -180
    },
    "id": "EQjimmEQyBWd"
   },
   "outputs": [],
   "source": [
    "train = h5py.File(os.path.join(DATA_PREFIX, \"kaggle_2_train.h5\"), 'r')\n",
    "save_data_in_chunks(train, 50000)"
   ]
  },
  {
   "cell_type": "code",
   "execution_count": null,
   "metadata": {},
   "outputs": [],
   "source": [
    "print(len(train['all_events']['histHCAL']))"
   ]
  },
  {
   "cell_type": "markdown",
   "metadata": {
    "id": "vBM73vB_Rws_"
   },
   "source": [
    "Event example"
   ]
  },
  {
   "cell_type": "code",
   "execution_count": null,
   "metadata": {
    "executionInfo": {
     "elapsed": 7399,
     "status": "ok",
     "timestamp": 1643676109978,
     "user": {
      "displayName": "Сергей Сергеевич Корпачев",
      "photoUrl": "https://lh3.googleusercontent.com/a/default-user=s64",
      "userId": "15980929552650675205"
     },
     "user_tz": -180
    },
    "id": "GxTvYZLOGXVl"
   },
   "outputs": [],
   "source": [
    "X_example = np.load(\"X_train_0.npy\")\n",
    "X_example_val = np.load(\"X_val_0.npy\")"
   ]
  },
  {
   "cell_type": "code",
   "execution_count": null,
   "metadata": {
    "colab": {
     "base_uri": "https://localhost:8080/",
     "height": 280
    },
    "executionInfo": {
     "elapsed": 564,
     "status": "ok",
     "timestamp": 1643676110535,
     "user": {
      "displayName": "Сергей Сергеевич Корпачев",
      "photoUrl": "https://lh3.googleusercontent.com/a/default-user=s64",
      "userId": "15980929552650675205"
     },
     "user_tz": -180
    },
    "id": "gNOFRAnhGXVq",
    "outputId": "867334e4-45cb-404e-f542-1df264d4b0ac"
   },
   "outputs": [],
   "source": [
    "# X and Y axes show pseudorapidity and phi or vice versa.\n",
    "# Z axis shows energy deposition.\n",
    "# The data were prepared and normalised before the competition.\n",
    "\n",
    "f, ax = plt.subplots(1,3,figsize=(14,6))\n",
    "for i in range(3):\n",
    "    ax[i].imshow(X_example[100,i,:,:], cmap=\"Reds\")"
   ]
  },
  {
   "cell_type": "code",
   "execution_count": null,
   "metadata": {
    "executionInfo": {
     "elapsed": 7256,
     "status": "ok",
     "timestamp": 1643676117787,
     "user": {
      "displayName": "Сергей Сергеевич Корпачев",
      "photoUrl": "https://lh3.googleusercontent.com/a/default-user=s64",
      "userId": "15980929552650675205"
     },
     "user_tz": -180
    },
    "id": "66azPUgGGEzh"
   },
   "outputs": [],
   "source": [
    "# Is it pythonic code? Could you rewrite it?\n",
    "\n",
    "mean0 = [] * len(X_example)\n",
    "mean1 = [] * len(X_example)\n",
    "mean2 = [] * len(X_example)\n",
    "\n",
    "std0 = [] * len(X_example)\n",
    "std1 = [] * len(X_example)\n",
    "std2 = [] * len(X_example)\n",
    "\n",
    "max0 = [] * len(X_example)\n",
    "max1 = [] * len(X_example)\n",
    "max2 = [] * len(X_example)\n",
    "\n",
    "\n",
    "for elem in X_example:\n",
    "  mean0.append(elem[0].mean())\n",
    "  mean1.append(elem[1].mean())\n",
    "  mean2.append(elem[2].mean())\n",
    "\n",
    "  std0.append(elem[0].std())\n",
    "  std1.append(elem[1].std())\n",
    "  std2.append(elem[2].std())\n",
    "\n",
    "  max0.append(elem[0].max())\n",
    "  max1.append(elem[1].max())\n",
    "  max2.append(elem[2].max())  \n",
    "\n",
    "mean0 = np.array(mean0)\n",
    "mean1 = np.array(mean1)\n",
    "mean2 = np.array(mean2)\n",
    "\n",
    "std0 = np.array(std0)\n",
    "std1 = np.array(std1)\n",
    "std2 = np.array(std2)\n",
    "\n",
    "max0 = np.array(max0)\n",
    "max1 = np.array(max1)\n",
    "max2 = np.array(max2)"
   ]
  },
  {
   "cell_type": "code",
   "execution_count": null,
   "metadata": {
    "executionInfo": {
     "elapsed": 1023,
     "status": "ok",
     "timestamp": 1643676118805,
     "user": {
      "displayName": "Сергей Сергеевич Корпачев",
      "photoUrl": "https://lh3.googleusercontent.com/a/default-user=s64",
      "userId": "15980929552650675205"
     },
     "user_tz": -180
    },
    "id": "pfb3QZv8LyaG"
   },
   "outputs": [],
   "source": [
    "# Is it pythonic code? Could you rewrite it?\n",
    "\n",
    "mean0_val = [] * len(X_example_val)\n",
    "mean1_val = [] * len(X_example_val)\n",
    "mean2_val = [] * len(X_example_val)\n",
    "\n",
    "std0_val = [] * len(X_example_val)\n",
    "std1_val = [] * len(X_example_val)\n",
    "std2_val = [] * len(X_example_val)\n",
    "\n",
    "max0_val = [] * len(X_example_val)\n",
    "max1_val = [] * len(X_example_val)\n",
    "max2_val = [] * len(X_example_val)\n",
    "\n",
    "\n",
    "for elem in X_example_val:\n",
    "  mean0_val.append(elem[0].mean())\n",
    "  mean1_val.append(elem[1].mean())\n",
    "  mean2_val.append(elem[2].mean())\n",
    "\n",
    "  std0_val.append(elem[0].std())\n",
    "  std1_val.append(elem[1].std())\n",
    "  std2_val.append(elem[2].std())\n",
    "\n",
    "  max0_val.append(elem[0].max())\n",
    "  max1_val.append(elem[1].max())\n",
    "  max2_val.append(elem[2].max())  \n",
    "\n",
    "mean0_val = np.array(mean0_val)\n",
    "mean1_val = np.array(mean1_val)\n",
    "mean2_val = np.array(mean2_val)\n",
    "\n",
    "std0_val = np.array(std0_val)\n",
    "std1_val = np.array(std1_val)\n",
    "std2_val = np.array(std2_val)\n",
    "\n",
    "max0_val = np.array(max0_val)\n",
    "max1_val = np.array(max1_val)\n",
    "max2_val = np.array(max2_val)"
   ]
  },
  {
   "cell_type": "code",
   "execution_count": null,
   "metadata": {
    "executionInfo": {
     "elapsed": 13,
     "status": "ok",
     "timestamp": 1643676118806,
     "user": {
      "displayName": "Сергей Сергеевич Корпачев",
      "photoUrl": "https://lh3.googleusercontent.com/a/default-user=s64",
      "userId": "15980929552650675205"
     },
     "user_tz": -180
    },
    "id": "aAqaVQwpFcIh"
   },
   "outputs": [],
   "source": [
    "branch = [mean0, mean1, mean2, std0, std1, std2, max0, max1, max2]\n",
    "branch_val = [mean0_val, mean1_val, mean2_val, std0_val, std1_val, std2_val, max0_val, max1_val, max2_val]"
   ]
  },
  {
   "cell_type": "code",
   "execution_count": null,
   "metadata": {
    "executionInfo": {
     "elapsed": 12,
     "status": "ok",
     "timestamp": 1643676118807,
     "user": {
      "displayName": "Сергей Сергеевич Корпачев",
      "photoUrl": "https://lh3.googleusercontent.com/a/default-user=s64",
      "userId": "15980929552650675205"
     },
     "user_tz": -180
    },
    "id": "V4lMS6LH_6Dy"
   },
   "outputs": [],
   "source": [
    "branch = np.array(branch)\n",
    "branch_val = np.array(branch_val)"
   ]
  },
  {
   "cell_type": "code",
   "execution_count": null,
   "metadata": {
    "executionInfo": {
     "elapsed": 11,
     "status": "ok",
     "timestamp": 1643676118807,
     "user": {
      "displayName": "Сергей Сергеевич Корпачев",
      "photoUrl": "https://lh3.googleusercontent.com/a/default-user=s64",
      "userId": "15980929552650675205"
     },
     "user_tz": -180
    },
    "id": "py4ZbMguAAGE"
   },
   "outputs": [],
   "source": [
    "branch = branch.T\n",
    "branch_val = branch_val.T"
   ]
  },
  {
   "cell_type": "code",
   "execution_count": null,
   "metadata": {
    "colab": {
     "base_uri": "https://localhost:8080/"
    },
    "executionInfo": {
     "elapsed": 11,
     "status": "ok",
     "timestamp": 1643676118808,
     "user": {
      "displayName": "Сергей Сергеевич Корпачев",
      "photoUrl": "https://lh3.googleusercontent.com/a/default-user=s64",
      "userId": "15980929552650675205"
     },
     "user_tz": -180
    },
    "id": "vPlYByCvh8XP",
    "outputId": "2b92ed57-ee93-4ba4-8ca6-14f7ed6b3df2"
   },
   "outputs": [],
   "source": [
    "print(\"before = \", gc.collect())\n",
    "del X_example, X_example_val\n",
    "print(\"after = \", gc.collect())"
   ]
  },
  {
   "cell_type": "markdown",
   "metadata": {
    "id": "1a99yYfk5m-w"
   },
   "source": [
    "Load validation data to memory"
   ]
  },
  {
   "cell_type": "code",
   "execution_count": null,
   "metadata": {
    "executionInfo": {
     "elapsed": 8,
     "status": "ok",
     "timestamp": 1643676118808,
     "user": {
      "displayName": "Сергей Сергеевич Корпачев",
      "photoUrl": "https://lh3.googleusercontent.com/a/default-user=s64",
      "userId": "15980929552650675205"
     },
     "user_tz": -180
    },
    "id": "Dp-SnS_-5lzZ"
   },
   "outputs": [],
   "source": [
    "# This variable tells, how many file pieces of validation data we want to consider\n",
    "N_DATA_SPLITS = 1"
   ]
  },
  {
   "cell_type": "code",
   "execution_count": null,
   "metadata": {
    "executionInfo": {
     "elapsed": 1001,
     "status": "ok",
     "timestamp": 1643676119802,
     "user": {
      "displayName": "Сергей Сергеевич Корпачев",
      "photoUrl": "https://lh3.googleusercontent.com/a/default-user=s64",
      "userId": "15980929552650675205"
     },
     "user_tz": -180
    },
    "id": "xc3rKXrlGXVx"
   },
   "outputs": [],
   "source": [
    "X_val = np.concatenate([np.load(\"X_val_{}.npy\".format(i)) for i in range(N_DATA_SPLITS)])\n",
    "y_val = np.concatenate([np.load(\"y_val_{}.npy\".format(i)) for i in range(N_DATA_SPLITS)])"
   ]
  },
  {
   "cell_type": "markdown",
   "metadata": {
    "id": "lwKUQnMDGXV0"
   },
   "source": [
    "# Definition of models"
   ]
  },
  {
   "cell_type": "code",
   "execution_count": null,
   "metadata": {
    "executionInfo": {
     "elapsed": 409,
     "status": "ok",
     "timestamp": 1643676121713,
     "user": {
      "displayName": "Сергей Сергеевич Корпачев",
      "photoUrl": "https://lh3.googleusercontent.com/a/default-user=s64",
      "userId": "15980929552650675205"
     },
     "user_tz": -180
    },
    "id": "zSD1Anc8GXV1"
   },
   "outputs": [],
   "source": [
    "from torch import nn\n",
    "import torch.nn.functional as F\n",
    "\n",
    "class Flatten(nn.Module):\n",
    "    def forward(self, input):\n",
    "        return input.view(input.size(0), -1)"
   ]
  },
  {
   "cell_type": "markdown",
   "metadata": {
    "id": "ZZQZ7WmqGXV7"
   },
   "source": [
    "## This is dummy example of CNN, look what you can change here"
   ]
  },
  {
   "cell_type": "code",
   "execution_count": null,
   "metadata": {
    "executionInfo": {
     "elapsed": 385,
     "status": "ok",
     "timestamp": 1643676154967,
     "user": {
      "displayName": "Сергей Сергеевич Корпачев",
      "photoUrl": "https://lh3.googleusercontent.com/a/default-user=s64",
      "userId": "15980929552650675205"
     },
     "user_tz": -180
    },
    "id": "Zf_m7XRAGXV8"
   },
   "outputs": [],
   "source": [
    "device = torch.device(\"cuda\", 0)"
   ]
  },
  {
   "cell_type": "code",
   "execution_count": null,
   "metadata": {
    "colab": {
     "base_uri": "https://localhost:8080/"
    },
    "executionInfo": {
     "elapsed": 4,
     "status": "ok",
     "timestamp": 1643676156439,
     "user": {
      "displayName": "Сергей Сергеевич Корпачев",
      "photoUrl": "https://lh3.googleusercontent.com/a/default-user=s64",
      "userId": "15980929552650675205"
     },
     "user_tz": -180
    },
    "id": "U1KXoC7pGXWA",
    "outputId": "523b6c19-e3b8-4db4-d2fe-94c987d4864f"
   },
   "outputs": [],
   "source": [
    "model = torch.nn.Sequential()\n",
    "model.add_module(\"maxpool_1\", torch.nn.MaxPool2d(kernel_size=2))\n",
    "model.add_module('conv_1', nn.Conv2d(3, 32, kernel_size=(5,5), stride=1, padding=0))\n",
    "model.add_module(\"maxpool_2\", torch.nn.MaxPool2d(kernel_size=2))\n",
    "model.add_module(\"relu_1\", torch.nn.ReLU())\n",
    "\n",
    "model.add_module(\"flat\", Flatten())\n",
    "\n",
    "model.add_module(\"fc1\", torch.nn.Linear(6272, 128))\n",
    "model.add_module(\"relu_2\", torch.nn.ReLU())\n",
    "model.add_module(\"fc2\", torch.nn.Linear(128, 1))\n",
    "model.add_module(\"sigmoid\", torch.nn.Sigmoid())\n",
    "\n",
    "model.to(device)"
   ]
  },
  {
   "cell_type": "code",
   "execution_count": null,
   "metadata": {
    "colab": {
     "base_uri": "https://localhost:8080/"
    },
    "executionInfo": {
     "elapsed": 418,
     "status": "ok",
     "timestamp": 1643676183056,
     "user": {
      "displayName": "Сергей Сергеевич Корпачев",
      "photoUrl": "https://lh3.googleusercontent.com/a/default-user=s64",
      "userId": "15980929552650675205"
     },
     "user_tz": -180
    },
    "id": "_LntFtLr9pgN",
    "outputId": "9c11750f-83db-4446-a407-2089bd299f93"
   },
   "outputs": [],
   "source": [
    "model_fcn = torch.nn.Sequential()\n",
    "model_fcn.add_module(\"fc1\", torch.nn.Linear(9, 128))\n",
    "model_fcn.add_module(\"relu_1\", torch.nn.ReLU())\n",
    "model_fcn.add_module(\"fc2\", torch.nn.Linear(128, 1))\n",
    "model_fcn.add_module(\"sigmoid\", torch.nn.Sigmoid())\n",
    "\n",
    "model_fcn.to(device)"
   ]
  },
  {
   "cell_type": "markdown",
   "metadata": {
    "id": "PvdHX2c_GXWI"
   },
   "source": [
    "## Training on minibatches\n",
    "\n",
    "Just like before, we train our model on small random minibatches of data with adaptive optimization method of your choice."
   ]
  },
  {
   "cell_type": "code",
   "execution_count": null,
   "metadata": {
    "executionInfo": {
     "elapsed": 515,
     "status": "ok",
     "timestamp": 1643676404952,
     "user": {
      "displayName": "Сергей Сергеевич Корпачев",
      "photoUrl": "https://lh3.googleusercontent.com/a/default-user=s64",
      "userId": "15980929552650675205"
     },
     "user_tz": -180
    },
    "id": "qFUuixd6RU31"
   },
   "outputs": [],
   "source": [
    "# An auxilary function that returns mini-batches for neural network training\n",
    "from tqdm import trange\n",
    "def iterate_minibatches(X, y, batchsize, shuffle=False):\n",
    "    indices = np.arange(len(X))\n",
    "    if shuffle: \n",
    "        indices = np.random.permutation(indices)\n",
    "    for start in trange(0, len(indices), batchsize):\n",
    "        ix = indices[start: start + batchsize]\n",
    "        yield X[ix], y[ix]"
   ]
  },
  {
   "cell_type": "markdown",
   "metadata": {
    "id": "E6z_3dT3GXWJ"
   },
   "source": [
    "## Choose you optimiser"
   ]
  },
  {
   "cell_type": "code",
   "execution_count": null,
   "metadata": {
    "executionInfo": {
     "elapsed": 3,
     "status": "ok",
     "timestamp": 1643676407619,
     "user": {
      "displayName": "Сергей Сергеевич Корпачев",
      "photoUrl": "https://lh3.googleusercontent.com/a/default-user=s64",
      "userId": "15980929552650675205"
     },
     "user_tz": -180
    },
    "id": "zOr4UI8uGXWL"
   },
   "outputs": [],
   "source": [
    "opt = torch.optim.SGD(model.parameters(), lr=0.01)"
   ]
  },
  {
   "cell_type": "code",
   "execution_count": null,
   "metadata": {
    "executionInfo": {
     "elapsed": 3,
     "status": "ok",
     "timestamp": 1643676408217,
     "user": {
      "displayName": "Сергей Сергеевич Корпачев",
      "photoUrl": "https://lh3.googleusercontent.com/a/default-user=s64",
      "userId": "15980929552650675205"
     },
     "user_tz": -180
    },
    "id": "o2NqZB2i95yN"
   },
   "outputs": [],
   "source": [
    "opt_fcn = torch.optim.SGD(model_fcn.parameters(), lr=0.01)"
   ]
  },
  {
   "cell_type": "markdown",
   "metadata": {
    "id": "iCRa5DFAGXWQ"
   },
   "source": [
    "## And set up batch_size and number of epochs"
   ]
  },
  {
   "cell_type": "code",
   "execution_count": null,
   "metadata": {
    "executionInfo": {
     "elapsed": 439,
     "status": "ok",
     "timestamp": 1643676412536,
     "user": {
      "displayName": "Сергей Сергеевич Корпачев",
      "photoUrl": "https://lh3.googleusercontent.com/a/default-user=s64",
      "userId": "15980929552650675205"
     },
     "user_tz": -180
    },
    "id": "rB_XDDUXGXWS"
   },
   "outputs": [],
   "source": [
    "import time\n",
    "#from pandas import ewma\n",
    "from IPython import display\n",
    "\n",
    "num_epochs = 2 #amount of passes through the data\n",
    "batch_size = 1024 #number of samples processed at each function call\n",
    "auc_history = []\n",
    "\n",
    "number_of_chunks = 1 #number of initial data splits to process\n",
    "best_score = 0\n",
    "best_epoch = 0"
   ]
  },
  {
   "cell_type": "code",
   "execution_count": null,
   "metadata": {
    "id": "ztkDPzhqGXWY"
   },
   "outputs": [],
   "source": [
    "for epoch in range(num_epochs):\n",
    "    # In each epoch, we do a full pass over the training data:\n",
    "    \n",
    "    train_err = train_acc = 0\n",
    "    train_batches = 0\n",
    "    start_time = time.time()\n",
    "    \n",
    "    for step in range(number_of_chunks):\n",
    "        X_train, y_train = np.load(\"X_train_{}.npy\".format(step)), np.load(\"y_train_{}.npy\".format(step))\n",
    "        train_batches += np.ceil(len(X_train) / batch_size).astype(int)\n",
    "        # This is you have see already - traning loop\n",
    "        model.train(True) # enable dropout / batch_norm training behavior\n",
    "        for X_batch, y_batch in iterate_minibatches(X_train, y_train, batch_size, shuffle=True):\n",
    "            X_batch = torch.FloatTensor(X_batch).to(device)\n",
    "            y_batch = torch.FloatTensor(y_batch).to(device)\n",
    "\n",
    "            y_predicted = model(X_batch)\n",
    "            loss = torch.nn.functional.binary_cross_entropy(y_predicted, y_batch).mean()\n",
    "\n",
    "            loss.backward()\n",
    "            opt.step()\n",
    "            opt.zero_grad()\n",
    "\n",
    "            train_err += loss.data.cpu().numpy()\n",
    "            train_acc += torch.eq(torch.round(y_predicted), y_batch).data.cpu().numpy().mean()\n",
    "\n",
    "    # And a full pass over the validation data:\n",
    "    y_pred = []\n",
    "\n",
    "    model.train(False)\n",
    "    for X_batch, y_batch in iterate_minibatches(X_val, y_val, batch_size, shuffle=False):\n",
    "        X_batch = torch.FloatTensor(X_batch).to(device)\n",
    "        y_pred.extend(model(X_batch).data.cpu().numpy())\n",
    "\n",
    "    y_pred = np.asarray(y_pred)\n",
    "    # Save the metrics values   \n",
    "    val_acc = accuracy_score(y_val, y_pred > 0.5)\n",
    "    val_roc_auc = roc_auc_score(y_val, y_pred)\n",
    "    auc_history.append(val_roc_auc)\n",
    "\n",
    "\n",
    "    # Visualize\n",
    "    display.clear_output(wait=True)\n",
    "    plt.figure(figsize=(8, 6))\n",
    "    plt.title(\"Validation AUC\")\n",
    "    plt.xlabel(\"#iteration\")\n",
    "    plt.ylabel(\"AUC\")\n",
    "    plt.plot(auc_history, 'b',label='val auc')\n",
    "    plt.legend(loc='best')\n",
    "    plt.grid()\n",
    "    plt.show()\n",
    "\n",
    "    # Then we print the results for this epoch:\n",
    "    print(\"Epoch {} of {} took {:.3f}s\".format(\n",
    "        epoch + 1, num_epochs, time.time() - start_time))\n",
    "\n",
    "    print(\"  training loss (in-iteration):\\t\\t{:.6f}\".format(train_err / train_batches))\n",
    "    print(\"  train accuracy:\\t\\t{:.2f} %\".format(train_acc / train_batches * 100))\n",
    "    print(\"  validation accuracy:\\t\\t{:.2f} %\".format(val_acc * 100))\n",
    "    print(\"  validation roc_auc:\\t\\t{:.2f} %\".format(val_roc_auc * 100))\n",
    "    \n",
    "    \n",
    "    if auc_history[-1] > best_score:\n",
    "        best_score = auc_history[-1]\n",
    "        best_epoch = epoch\n",
    "        with open(os.path.join(\"/content/gdrive/My Drive/kaggle_2\", \"nn_snapshots\", \"best.pt\"), 'wb') as f:\n",
    "            torch.save(model, f)    "
   ]
  },
  {
   "cell_type": "code",
   "execution_count": null,
   "metadata": {
    "id": "g5dUyGLa-Aog"
   },
   "outputs": [],
   "source": [
    "# The same code for training? Could you rewrite this in function style? It means one training function for all your models.\n",
    "\n",
    "for epoch in range(num_epochs):\n",
    "    # In each epoch, we do a full pass over the training data:\n",
    "    \n",
    "    train_err = train_acc = 0\n",
    "    train_batches = 0\n",
    "    start_time = time.time()\n",
    "    \n",
    "    for step in range(number_of_chunks):\n",
    "        X_train, y_train = branch, np.load(\"y_train_{}.npy\".format(step))\n",
    "        train_batches += np.ceil(len(X_train) / batch_size).astype(int)\n",
    "        # This is you have see already - traning loop\n",
    "        model_fcn.train(True) # enable dropout / batch_norm training behavior\n",
    "        for X_batch, y_batch in iterate_minibatches(X_train, y_train, batch_size, shuffle=True):\n",
    "            X_batch = torch.FloatTensor(X_batch).to(device)\n",
    "            y_batch = torch.FloatTensor(y_batch).to(device)\n",
    "\n",
    "            y_predicted = model_fcn(X_batch)\n",
    "            loss = torch.nn.functional.binary_cross_entropy(y_predicted, y_batch).mean()\n",
    "\n",
    "            loss.backward()\n",
    "            opt_fcn.step()\n",
    "            opt_fcn.zero_grad()\n",
    "\n",
    "            train_err += loss.data.cpu().numpy()\n",
    "            train_acc += torch.eq(torch.round(y_predicted), y_batch).data.cpu().numpy().mean()\n",
    "\n",
    "    # And a full pass over the validation data:\n",
    "    y_pred = []\n",
    "\n",
    "    model_fcn.train(False)\n",
    "    for X_batch, y_batch in iterate_minibatches(branch_val, y_val, batch_size, shuffle=False):\n",
    "        X_batch = torch.FloatTensor(X_batch).to(device)\n",
    "        y_pred.extend(model_fcn(X_batch).data.cpu().numpy())\n",
    "\n",
    "    y_pred = np.asarray(y_pred)\n",
    "    # Save the metrics values   \n",
    "    val_acc = accuracy_score(y_val, y_pred > 0.5)\n",
    "    val_roc_auc = roc_auc_score(y_val, y_pred)\n",
    "    auc_history.append(val_roc_auc)\n",
    "\n",
    "\n",
    "    # Visualize\n",
    "    display.clear_output(wait=True)\n",
    "    plt.figure(figsize=(8, 6))\n",
    "    plt.title(\"Validation AUC\")\n",
    "    plt.xlabel(\"#iteration\")\n",
    "    plt.ylabel(\"AUC\")\n",
    "    plt.plot(auc_history, 'b',label='val auc')\n",
    "    plt.legend(loc='best')\n",
    "    plt.grid()\n",
    "    plt.show()\n",
    "\n",
    "    # Then we print the results for this epoch:\n",
    "    print(\"Epoch {} of {} took {:.3f}s\".format(\n",
    "        epoch + 1, num_epochs, time.time() - start_time))\n",
    "\n",
    "    print(\"  training loss (in-iteration):\\t\\t{:.6f}\".format(train_err / train_batches))\n",
    "    print(\"  train accuracy:\\t\\t{:.2f} %\".format(train_acc / train_batches * 100))\n",
    "    print(\"  validation accuracy:\\t\\t{:.2f} %\".format(val_acc * 100))\n",
    "    print(\"  validation roc_auc:\\t\\t{:.2f} %\".format(val_roc_auc * 100))\n",
    "    \n",
    "    \n",
    "#    if auc_history[-1] > best_score:\n",
    "#        best_score = auc_history[-1]\n",
    "#        best_epoch = epoch\n",
    "#        #with open(os.path.join(\"/content/gdrive/My Drive/kaggle_2\", \"nn_snapshots\", \"best_fcn.pt\"), 'wb') as f:\n",
    "#            torch.save(model_fcn, f)    "
   ]
  },
  {
   "cell_type": "markdown",
   "metadata": {
    "id": "rCNaPjLOGXWi"
   },
   "source": [
    "# Read test data, feed it to neural network, and save the output in kaggle format"
   ]
  },
  {
   "cell_type": "code",
   "execution_count": null,
   "metadata": {
    "colab": {
     "base_uri": "https://localhost:8080/"
    },
    "executionInfo": {
     "elapsed": 113924,
     "status": "ok",
     "timestamp": 1643671184118,
     "user": {
      "displayName": "Сергей Сергеевич Корпачев",
      "photoUrl": "https://lh3.googleusercontent.com/a/default-user=s64",
      "userId": "15980929552650675205"
     },
     "user_tz": -180
    },
    "id": "TFRCSIl_yjOW",
    "outputId": "efe5ae99-39b6-449e-c30c-5a044862d1d2"
   },
   "outputs": [],
   "source": [
    "chunk_size = 10000\n",
    "test = h5py.File(os.path.join(DATA_PREFIX, \"kaggle_2_test.h5\"), 'r')\n",
    "\n",
    "y_ans = []\n",
    "for index, step in enumerate(range(0, len(test['all_events']['histHCAL']), chunk_size)):\n",
    "    X, _ = read_data(test, False, step, step + chunk_size)\n",
    "    y_ans.extend(model(torch.FloatTensor(X).to(device).contiguous()).detach().cpu().numpy())\n",
    "    del X\n",
    "    gc.collect()\n",
    "    print(\"Done:{}\".format(index))\n",
    "    \n",
    "y_ans = np.array(y_ans)"
   ]
  },
  {
   "cell_type": "markdown",
   "metadata": {
    "id": "GyvyG1VJGXWq"
   },
   "source": [
    "Saving you results to file."
   ]
  },
  {
   "cell_type": "code",
   "execution_count": null,
   "metadata": {
    "id": "CoGjXmOYGXWr"
   },
   "outputs": [],
   "source": [
    "import pandas as pd\n",
    "from IPython.display import FileLink\n",
    "\n",
    "def save_results(filename, y_ans):\n",
    "    answer_dataframe = pd.DataFrame(columns=[\"ID\", \"ans\"])\n",
    "    answer_dataframe['ID'] = range(0,len(y_ans))\n",
    "    answer_dataframe['ans'] = y_ans\n",
    "    answer_dataframe.to_csv(os.path.join(DATA_PREFIX, '{}'.format(filename)), index=False)\n",
    "    return FileLink(os.path.join(DATA_PREFIX, '{}'.format(filename)))\n"
   ]
  },
  {
   "cell_type": "code",
   "execution_count": null,
   "metadata": {
    "colab": {
     "base_uri": "https://localhost:8080/",
     "height": 34
    },
    "executionInfo": {
     "elapsed": 9,
     "status": "ok",
     "timestamp": 1643670906967,
     "user": {
      "displayName": "Сергей Сергеевич Корпачев",
      "photoUrl": "https://lh3.googleusercontent.com/a/default-user=s64",
      "userId": "15980929552650675205"
     },
     "user_tz": -180
    },
    "id": "G00EVpafGXWv",
    "outputId": "24d5a477-9e4e-4046-81a5-0fab13478a8b"
   },
   "outputs": [],
   "source": [
    "save_results(\"baseline.csv\", y_ans)"
   ]
  },
  {
   "cell_type": "code",
   "execution_count": null,
   "metadata": {
    "colab": {
     "base_uri": "https://localhost:8080/"
    },
    "executionInfo": {
     "elapsed": 6748,
     "status": "ok",
     "timestamp": 1643654815219,
     "user": {
      "displayName": "Сергей Сергеевич Корпачев",
      "photoUrl": "https://lh3.googleusercontent.com/a/default-user=s64",
      "userId": "15980929552650675205"
     },
     "user_tz": -180
    },
    "id": "-INVt7xj6RRy",
    "outputId": "92ed7c1b-3066-49bd-d20d-697c7593f2a4"
   },
   "outputs": [],
   "source": [
    "!kaggle competitions submit -c ml-icl2022-jet -f \"{DATA_PREFIX}/baseline.csv\" -m \"Message\""
   ]
  }
 ],
 "metadata": {
  "accelerator": "GPU",
  "colab": {
   "collapsed_sections": [
    "yRrjMtqAoXHx"
   ],
   "name": "my_ML_kaggle_2_challenge.ipynb",
   "provenance": []
  },
  "kernelspec": {
   "display_name": "Python 3",
   "language": "python",
   "name": "python3"
  },
  "language_info": {
   "codemirror_mode": {
    "name": "ipython",
    "version": 3
   },
   "file_extension": ".py",
   "mimetype": "text/x-python",
   "name": "python",
   "nbconvert_exporter": "python",
   "pygments_lexer": "ipython3",
   "version": "3.8.5"
  }
 },
 "nbformat": 4,
 "nbformat_minor": 1
}
