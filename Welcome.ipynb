{
 "cells": [
  {
   "cell_type": "code",
   "execution_count": null,
   "metadata": {
    "colab_type": "text",
    "id": "view-in-github"
   },
   "outputs": [],
   "source": [
    "<a href=\"https://colab.research.google.com/github/yandexdataschool/MLatImperial2022/blob/main/Welcome.ipynb\" target=\"_parent\"><img src=\"https://colab.research.google.com/assets/colab-badge.svg\" alt=\"Open In Colab\"/></a>"
   ]
  },
  {
   "cell_type": "markdown",
   "metadata": {
    "id": "n_nitmHugcSH"
   },
   "source": [
    "# Welcome"
   ]
  },
  {
   "cell_type": "markdown",
   "metadata": {
    "id": "pfojW1Laghph"
   },
   "source": [
    "During the practical sessions of the course we are going to use [Python programming language](https://www.python.org) in the [Google Colab environment](https://colab.research.google.com).\n",
    " \n",
    " If you are new to Python, please consider reading through the following tutorial:\n",
    " - https://docs.python.org/3.6/tutorial/\n",
    "\n",
    "In particular, the following parts of it should provide a more or less comprehensive introduction to the must-know basics:\n",
    "   - https://docs.python.org/3.6/tutorial/introduction.html\n",
    "   - https://docs.python.org/3.6/tutorial/controlflow.html\n",
    "   - https://docs.python.org/3.6/tutorial/datastructures.html\n",
    "   - https://docs.python.org/3.6/tutorial/modules.html\n",
    "   - https://docs.python.org/3.6/tutorial/classes.html\n"
   ]
  },
  {
   "cell_type": "markdown",
   "metadata": {
    "id": "wNKpO_suinc-"
   },
   "source": [
    "An overview of basic features of the Google Colab environment can be found [here](https://colab.research.google.com/notebooks/basic_features_overview.ipynb)."
   ]
  },
  {
   "cell_type": "markdown",
   "metadata": {
    "id": "YdeKlZBujiKN"
   },
   "source": [
    "# A few brief examples"
   ]
  },
  {
   "cell_type": "markdown",
   "metadata": {
    "id": "eJgglc3Rqswh"
   },
   "source": [
    "In this section we're just throwing a few basic examples at you, without much explanation. Make sure you run the cells below. Try experimenting with these examples, modify them with different numbers, operations etc."
   ]
  },
  {
   "cell_type": "markdown",
   "metadata": {},
   "source": [
    "## Cells\n",
    "\n",
    "The first thing to understand is that a notebook consists of a sequence of 'cells' that can be:\n",
    "\n",
    "* Text cells (like this one) can be written using [Markdown syntax](http://daringfireball.net/projects/markdown/syntax) \n",
    "\n",
    "* Code cells for execution (like next one), i.e. python code, `%magics`, `!system calls`, etc.\n",
    "\n",
    "Below, there is a code cell with the sum of two constant values:"
   ]
  },
  {
   "cell_type": "code",
   "execution_count": null,
   "metadata": {},
   "outputs": [],
   "source": [
    "1+2"
   ]
  },
  {
   "cell_type": "markdown",
   "metadata": {},
   "source": [
    "## python: assignment\n",
    "The assignment operator in python is =. In python you do not need to specify the type of a variable when you create one.\n",
    "\n",
    "Assigning a value to a new variable creates the variable (after cell execution this variable will be available in any cell):"
   ]
  },
  {
   "cell_type": "code",
   "execution_count": null,
   "metadata": {},
   "outputs": [],
   "source": [
    "x = 10\n",
    "y = 1e-5"
   ]
  },
  {
   "cell_type": "code",
   "execution_count": null,
   "metadata": {},
   "outputs": [],
   "source": [
    "x"
   ]
  },
  {
   "cell_type": "markdown",
   "metadata": {},
   "source": [
    "Although not explicitly specified, a variable does have a type associated with it. The type is derived from the value that was assigned to it. You can use the `type()` function to check the type of a given variable:"
   ]
  },
  {
   "cell_type": "code",
   "execution_count": null,
   "metadata": {},
   "outputs": [],
   "source": [
    "type(x)"
   ]
  },
  {
   "cell_type": "code",
   "execution_count": null,
   "metadata": {},
   "outputs": [],
   "source": [
    "type(y)"
   ]
  },
  {
   "cell_type": "code",
   "execution_count": null,
   "metadata": {},
   "outputs": [],
   "source": []
  },
  {
   "cell_type": "markdown",
   "metadata": {
    "id": "RqOTq_6hjkyP"
   },
   "source": [
    "## Using python as calculator"
   ]
  },
  {
   "cell_type": "code",
   "execution_count": null,
   "metadata": {
    "id": "JVfrJYBHgbXG"
   },
   "outputs": [],
   "source": [
    "1 + 2"
   ]
  },
  {
   "cell_type": "code",
   "execution_count": null,
   "metadata": {
    "id": "YhdP8Ksajr7q"
   },
   "outputs": [],
   "source": [
    "5 * (3 - 1)"
   ]
  },
  {
   "cell_type": "code",
   "execution_count": null,
   "metadata": {
    "id": "mWdxx3vjjwNJ"
   },
   "outputs": [],
   "source": [
    "2**3"
   ]
  },
  {
   "cell_type": "code",
   "execution_count": null,
   "metadata": {
    "id": "lmTFsTApj2zC"
   },
   "outputs": [],
   "source": [
    "\"Hello\" + \" \" + \"world\""
   ]
  },
  {
   "cell_type": "markdown",
   "metadata": {},
   "source": [
    "## Comments\n",
    "\n",
    "There are two ways to comment the code in python"
   ]
  },
  {
   "cell_type": "code",
   "execution_count": null,
   "metadata": {},
   "outputs": [],
   "source": [
    "# one-line comment, define x = 1\n",
    "x = 1"
   ]
  },
  {
   "cell_type": "code",
   "execution_count": null,
   "metadata": {},
   "outputs": [],
   "source": [
    "'''\n",
    "This is a multi-line comment.\n",
    "\n",
    "Below we define constant variable x with value 1\n",
    "'''\n",
    "x = 1"
   ]
  },
  {
   "cell_type": "code",
   "execution_count": null,
   "metadata": {},
   "outputs": [],
   "source": [
    "# check if the variable x is a float\n",
    "print(type(x) is float, type(x) is int)"
   ]
  },
  {
   "cell_type": "markdown",
   "metadata": {},
   "source": [
    "We can also use the `isinstance` method for testing types of variables:"
   ]
  },
  {
   "cell_type": "code",
   "execution_count": null,
   "metadata": {},
   "outputs": [],
   "source": [
    "isinstance(x, float)"
   ]
  },
  {
   "cell_type": "markdown",
   "metadata": {},
   "source": [
    "### None\n",
    "\n",
    "The value `None` is a special object in python that is used to show that a variable was declared, but was explicitly set to contain nothing."
   ]
  },
  {
   "cell_type": "code",
   "execution_count": null,
   "metadata": {},
   "outputs": [],
   "source": [
    "none_x = None\n",
    "print(none_x)\n",
    "print(none_x is None)"
   ]
  },
  {
   "cell_type": "markdown",
   "metadata": {},
   "source": [
    "### Type casting"
   ]
  },
  {
   "cell_type": "code",
   "execution_count": null,
   "metadata": {},
   "outputs": [],
   "source": [
    "y=0.5\n",
    "print(y, type(y))\n",
    "y_new = int(y)\n",
    "print(y_new, type(y_new))"
   ]
  },
  {
   "cell_type": "code",
   "execution_count": null,
   "metadata": {},
   "outputs": [],
   "source": []
  },
  {
   "cell_type": "markdown",
   "metadata": {
    "id": "gVRXRn6QkU18"
   },
   "source": [
    "## Variables"
   ]
  },
  {
   "cell_type": "code",
   "execution_count": null,
   "metadata": {
    "id": "51LslOEhkWsJ"
   },
   "outputs": [],
   "source": [
    "a = 1\n",
    "b = 2\n",
    "c = a / b\n",
    "\n",
    "print(a, b, c)\n",
    "\n",
    "# Note that `c` has different type (float) compared to `a` and `b` (which are of integer type)\n",
    "print(type(a), type(b), type(c))"
   ]
  },
  {
   "cell_type": "code",
   "execution_count": null,
   "metadata": {
    "id": "wHbXRpmEk4Ba"
   },
   "outputs": [],
   "source": [
    "print(a == b)\n",
    "print(a + 1 > b)\n",
    "print(a + 1 >= b)\n",
    "print(type(a + 1 > b))"
   ]
  },
  {
   "cell_type": "markdown",
   "metadata": {
    "id": "xtEdQYzzkPK5"
   },
   "source": [
    "## Loops and interables"
   ]
  },
  {
   "cell_type": "code",
   "execution_count": null,
   "metadata": {
    "id": "pUary3TNkAYj"
   },
   "outputs": [],
   "source": [
    "a = 0\n",
    "\n",
    "while a < 10:\n",
    "    a += 1\n",
    "    print(a**2)"
   ]
  },
  {
   "cell_type": "code",
   "execution_count": null,
   "metadata": {
    "id": "-Z4twE06lHgr"
   },
   "outputs": [],
   "source": [
    "a = [1, 2, 3, 'Hello']\n",
    "\n",
    "for i in a:\n",
    "    print(i, type(i))\n",
    "\n",
    "print(type(a))"
   ]
  },
  {
   "cell_type": "code",
   "execution_count": null,
   "metadata": {
    "id": "Z1jg1HSuliJT"
   },
   "outputs": [],
   "source": [
    "a = []\n",
    "for i in range(5):\n",
    "    a.append(i)\n",
    "print(a)"
   ]
  },
  {
   "cell_type": "code",
   "execution_count": null,
   "metadata": {
    "id": "vjkYAJBFlXA9"
   },
   "outputs": [],
   "source": [
    "a = []\n",
    "for i in range(1, 20, 3):\n",
    "    a.insert(0, i)\n",
    "print(a)"
   ]
  },
  {
   "cell_type": "markdown",
   "metadata": {
    "id": "rHKmw61Il80a"
   },
   "source": [
    "## Functions"
   ]
  },
  {
   "cell_type": "code",
   "execution_count": null,
   "metadata": {
    "id": "igddBBlblfkO"
   },
   "outputs": [],
   "source": [
    "def my_function(x):\n",
    "    return x**2\n",
    "\n",
    "# For such simple functions one may use lambdas:\n",
    "my_lambda_function = lambda x: x**2\n",
    "\n",
    "for i in range(5):\n",
    "    print(my_function(i), my_lambda_function(i))"
   ]
  },
  {
   "cell_type": "markdown",
   "metadata": {
    "id": "4pNRGgxv3ABa"
   },
   "source": [
    "# A bit more comprehensive intro"
   ]
  },
  {
   "cell_type": "markdown",
   "metadata": {
    "id": "vr0nTYTtrZ02"
   },
   "source": [
    "In this section we'll show you a few more examples, now with a bit of explanation. Please run the cells and follow the instructions below."
   ]
  },
  {
   "cell_type": "markdown",
   "metadata": {
    "id": "_H8HstR39gRm"
   },
   "source": [
    "### Basic types and operations"
   ]
  },
  {
   "cell_type": "markdown",
   "metadata": {
    "id": "1Nlg4jJyl7ag"
   },
   "source": [
    "Now, let's start with defining some variables of basic types:"
   ]
  },
  {
   "cell_type": "code",
   "execution_count": null,
   "metadata": {
    "id": "a4bOzlpl-UCk"
   },
   "outputs": [],
   "source": [
    "# integers:\n",
    "a1 = 1 # Define an integer variable named 'a1' of value 1\n",
    "a2 = -42\n",
    "\n",
    "# floats:\n",
    "b = 1.0\n",
    "c = .5\n",
    "d = 8.\n",
    "e = 1.2e3\n",
    "\n",
    "print(a1, a2)\n",
    "print(b)\n",
    "print(c)\n",
    "print(d)\n",
    "print(e)"
   ]
  },
  {
   "cell_type": "code",
   "execution_count": null,
   "metadata": {
    "id": "pEscnUhk-T1a"
   },
   "outputs": [],
   "source": [
    "# complex numbers:\n",
    "c1 = 2 + 3j\n",
    "c2 = 1/1j\n",
    "print(c1)\n",
    "print(c2)"
   ]
  },
  {
   "cell_type": "code",
   "execution_count": null,
   "metadata": {
    "id": "G8aupHIm-Too"
   },
   "outputs": [],
   "source": [
    "# strings\n",
    "f1 = 'Hello!'\n",
    "f2 = \"Hi\"\n",
    "g = \"\"\"Hi there!\n",
    "I'm a multiline string!\"\"\"\n",
    "h = 'foo' 'bar'\n",
    "i = '\"'\"'\"'\"'\"'\"\"'\"'\"'\"'\"'\"'\n",
    "\n",
    "print(f1, f2)\n",
    "print(g)\n",
    "print(h)\n",
    "print(i)"
   ]
  },
  {
   "cell_type": "code",
   "execution_count": null,
   "metadata": {
    "id": "n5M1ZaJgQWGJ"
   },
   "outputs": [],
   "source": [
    "# booleans\n",
    "j = True\n",
    "k = False\n",
    "l = j == k\n",
    "\n",
    "print(j, k, l)"
   ]
  },
  {
   "cell_type": "code",
   "execution_count": null,
   "metadata": {
    "id": "S5Sg3FEynV-d"
   },
   "outputs": [],
   "source": [
    "# In case you want to check variable type:\n",
    "print(type(a1))\n",
    "print(type(e))"
   ]
  },
  {
   "cell_type": "markdown",
   "metadata": {},
   "source": [
    "We can also use the `isinstance` method for testing types of variables:"
   ]
  },
  {
   "cell_type": "code",
   "execution_count": null,
   "metadata": {},
   "outputs": [],
   "source": [
    "isinstance(x, float)"
   ]
  },
  {
   "cell_type": "code",
   "execution_count": null,
   "metadata": {
    "id": "FUdV_HZn8U67"
   },
   "outputs": [],
   "source": [
    "# YOUR CODE HERE\n",
    "#  - print out the type of other variables we've defined above\n",
    "#  - print out the type of 'print' function\n",
    "#  - print out the type of 'type' function"
   ]
  },
  {
   "cell_type": "code",
   "execution_count": null,
   "metadata": {
    "id": "v4g9Jol3nnVk"
   },
   "outputs": [],
   "source": [
    "# Operations:\n",
    "print(2 + 2)\n",
    "print(2 - 2)\n",
    "print(2 * 2)\n",
    "print(1 / 2) # note that python is smart enough to convert integer to float here\n",
    "print(7 // 3) # floor division\n",
    "print(2019 % 100) # remainder of division\n",
    "print(2**4) # exponentiation\n",
    "\n",
    "\n",
    "a = 1\n",
    "b = 2\n",
    "# Some string operations and formatting:\n",
    "print(\"Hello \" + \"world!\")\n",
    "print(\"%i + %i = %i\" % (a, b, a + b))\n",
    "print(\"{} + {} = {}\".format(a, b, a + b))\n",
    "print(\"{var_a} + {var_b} = {a_plus_b_result}\".format(\n",
    "    a_plus_b_result=a+b, var_a=a, var_b=b))\n",
    "print(\"1 + 2 = %.4f\" % (1 + 2))\n",
    "print(\"1 + 2 = {:.4f}\".format(1 + 2))\n",
    "\n",
    "print(\"\\n f-strings - very simple string formatting:\")\n",
    "print(f\"{a} + {b} = {a + b}\")\n",
    "print(f\"{a:.3f} + {b:.3f} = {a + b:.3f}\")\n"
   ]
  },
  {
   "cell_type": "markdown",
   "metadata": {
    "id": "FuUDOWzF3tJA"
   },
   "source": [
    "Note that after a cell execution the value of the last expression will be printed out, so you don't always have to use the `print` function:"
   ]
  },
  {
   "cell_type": "code",
   "execution_count": null,
   "metadata": {
    "id": "BA8Cjjf3n9at"
   },
   "outputs": [],
   "source": [
    "a = 1\n",
    "b = 2\n",
    "a + b"
   ]
  },
  {
   "cell_type": "markdown",
   "metadata": {
    "id": "MKP-eUtY4QNp"
   },
   "source": [
    "Unless you finish a line with a semicolon:"
   ]
  },
  {
   "cell_type": "code",
   "execution_count": null,
   "metadata": {
    "id": "RTvObVSS4PVU"
   },
   "outputs": [],
   "source": [
    "a + b;"
   ]
  },
  {
   "cell_type": "markdown",
   "metadata": {
    "id": "_XbtNJNo4kls"
   },
   "source": [
    "We've defined a number of variables so far. Here's how you can list all of them (+ some internals of python):"
   ]
  },
  {
   "cell_type": "code",
   "execution_count": null,
   "metadata": {
    "id": "nRVS4csJ4jJN"
   },
   "outputs": [],
   "source": [
    "dir()"
   ]
  },
  {
   "cell_type": "markdown",
   "metadata": {
    "id": "v0aNEFQY5f8t"
   },
   "source": [
    "In general, one-letter variable names is a bad practice. It's preferable to give your variables meaningful names.\n",
    "\n",
    "Let's get rid of all the variables we've defined by restarting the runtime. You can do this by clicking the `Runtime->Restart runtime...` menu item.\n",
    "\n",
    "Now `dir()` should have gotten rid of these variables:"
   ]
  },
  {
   "cell_type": "code",
   "execution_count": null,
   "metadata": {
    "id": "kS5VvAoN6JVL"
   },
   "outputs": [],
   "source": [
    "dir()"
   ]
  },
  {
   "cell_type": "markdown",
   "metadata": {
    "id": "NsvDiBuY5Gtt"
   },
   "source": [
    "Note: **Be careful with your variable names!** Python allows you to use the built-in function names for your variables, which can mess things up:"
   ]
  },
  {
   "cell_type": "code",
   "execution_count": null,
   "metadata": {
    "id": "cFa4gcsu6q88"
   },
   "outputs": [],
   "source": [
    "print = False\n",
    "print"
   ]
  },
  {
   "cell_type": "markdown",
   "metadata": {
    "id": "OD2vKRLB7hlN"
   },
   "source": [
    "At this point you can't use the `print` function for output:"
   ]
  },
  {
   "cell_type": "code",
   "execution_count": null,
   "metadata": {
    "id": "bxwMGoZX6wJV"
   },
   "outputs": [],
   "source": [
    "print(10)"
   ]
  },
  {
   "cell_type": "markdown",
   "metadata": {
    "id": "EO4sArU37q8x"
   },
   "source": [
    "One way of fixing this is to reset the runtime as we did before. Another way is to use the `del` statement:"
   ]
  },
  {
   "cell_type": "code",
   "execution_count": null,
   "metadata": {
    "id": "EdkDrH1F7nwS"
   },
   "outputs": [],
   "source": [
    "del print\n",
    "print(10)"
   ]
  },
  {
   "cell_type": "markdown",
   "metadata": {
    "id": "zEwxe19U_Ihq"
   },
   "source": [
    "### Composite types"
   ]
  },
  {
   "cell_type": "markdown",
   "metadata": {
    "id": "00Wdm1BEAGSa"
   },
   "source": [
    "We'll start with lists - they represent arrays of objects:"
   ]
  },
  {
   "cell_type": "code",
   "execution_count": null,
   "metadata": {
    "id": "QF4pb46M8Fr9"
   },
   "outputs": [],
   "source": [
    "array1 = [1, 2, -3, 'hello', 4e5, 8j, False]\n",
    "print(array1)\n",
    "print(type(array1))"
   ]
  },
  {
   "cell_type": "markdown",
   "metadata": {
    "id": "A7vGe8lDANd3"
   },
   "source": [
    "Addition means concatenation for lists:"
   ]
  },
  {
   "cell_type": "code",
   "execution_count": null,
   "metadata": {
    "id": "LInAFaHm_zld"
   },
   "outputs": [],
   "source": [
    "print(array1 + array1)"
   ]
  },
  {
   "cell_type": "markdown",
   "metadata": {
    "id": "ZZsLKJhKAQgm"
   },
   "source": [
    "Another way of adding elements to a list (inplace) is by using the `append` method:"
   ]
  },
  {
   "cell_type": "code",
   "execution_count": null,
   "metadata": {
    "id": "zz8V3id3_98u"
   },
   "outputs": [],
   "source": [
    "array1.append('world')\n",
    "array1"
   ]
  },
  {
   "cell_type": "markdown",
   "metadata": {
    "id": "Avjrs7C0AdWo"
   },
   "source": [
    "Lists can contain other lists:"
   ]
  },
  {
   "cell_type": "code",
   "execution_count": null,
   "metadata": {
    "id": "eM5_GSw0Ab7J"
   },
   "outputs": [],
   "source": [
    "array2 = [[True, False], ['Hello'], 42]\n",
    "array2"
   ]
  },
  {
   "cell_type": "markdown",
   "metadata": {
    "id": "6eX11ZlxBDV4"
   },
   "source": [
    "or even be recursive:"
   ]
  },
  {
   "cell_type": "code",
   "execution_count": null,
   "metadata": {
    "id": "or2i50-QBC0L"
   },
   "outputs": [],
   "source": [
    "array2.append(array2)\n",
    "array2"
   ]
  },
  {
   "cell_type": "markdown",
   "metadata": {
    "id": "PM0ukvotBLfE"
   },
   "source": [
    "Here's how you can index lists (indexing starts with 0):"
   ]
  },
  {
   "cell_type": "code",
   "execution_count": null,
   "metadata": {
    "id": "nFI445r_BBh1"
   },
   "outputs": [],
   "source": [
    "print(array1[0]) # first item\n",
    "print(array1[-1]) # last item\n",
    "print(array1[-2]) # one before last"
   ]
  },
  {
   "cell_type": "markdown",
   "metadata": {
    "id": "-Q9kn_sOC55y"
   },
   "source": [
    "You can also slice lists:"
   ]
  },
  {
   "cell_type": "code",
   "execution_count": null,
   "metadata": {
    "id": "nWi3Ce3SC2xZ"
   },
   "outputs": [],
   "source": [
    "print(array1[1:6:2]) # most general form - every 2nd element from 1 to 6\n",
    "print(array1[2::3]) # elements from 2 to the end with step 3\n",
    "print(array1[::2]) # every 2nd element starting from 0\n",
    "print(array1[::-1]) # all list in reverse order\n",
    "print(array1[2:5]) # elements from 2 to 5 (not including 5)\n",
    "print(array1[-2:]) # last two elements of the list"
   ]
  },
  {
   "cell_type": "markdown",
   "metadata": {
    "id": "1vJVR34SD4Ux"
   },
   "source": [
    "A very similar type is called \"tuple\". Similarly to lists, tuples are arrays of objects. The major difference is that they are **immutable**."
   ]
  },
  {
   "cell_type": "code",
   "execution_count": null,
   "metadata": {
    "id": "nony88Y4CsoI"
   },
   "outputs": [],
   "source": [
    "tuple1 = (1, 2, 'foo')\n",
    "tuple2 = tuple(array2) # You can initialize tuples with lists and vice versa\n",
    "print(tuple1)\n",
    "print(tuple2)"
   ]
  },
  {
   "cell_type": "markdown",
   "metadata": {
    "id": "4wgK4O_QEwpv"
   },
   "source": [
    "Note that inner lists from `array2` are stored as lists within the `tuple2`, so they are mutable:"
   ]
  },
  {
   "cell_type": "code",
   "execution_count": null,
   "metadata": {
    "id": "vShUqu8SEc_7"
   },
   "outputs": [],
   "source": [
    "tuple2[0].append(8)\n",
    "print(tuple2)"
   ]
  },
  {
   "cell_type": "markdown",
   "metadata": {
    "id": "h_BsFBKRFTYE"
   },
   "source": [
    "Also note, that the first item in `array2` has changed as well:"
   ]
  },
  {
   "cell_type": "code",
   "execution_count": null,
   "metadata": {
    "id": "Va_HqVsmFIjX"
   },
   "outputs": [],
   "source": [
    "array2"
   ]
  },
  {
   "cell_type": "markdown",
   "metadata": {
    "id": "LVnOMmgQFkqm"
   },
   "source": [
    "This illustrates a very important feature of python: all objects are stored by reference. Since `tuple2` was initialized from `array2`, they both reference the same object instances."
   ]
  },
  {
   "cell_type": "markdown",
   "metadata": {
    "id": "4TtM9brjGQAR"
   },
   "source": [
    "You can check whether two variables are referencing the same object with `is` operator:"
   ]
  },
  {
   "cell_type": "code",
   "execution_count": null,
   "metadata": {
    "id": "9mbgGuc0Fbgh"
   },
   "outputs": [],
   "source": [
    "print(array2[-1] is array2)\n",
    "print(tuple2[0] is array2[0])"
   ]
  },
  {
   "cell_type": "markdown",
   "metadata": {
    "id": "lwGbXShSHUAo"
   },
   "source": [
    "Two empty tuples created with `tuple()` expression will reference the same object:"
   ]
  },
  {
   "cell_type": "code",
   "execution_count": null,
   "metadata": {
    "id": "QOQ71ETcHmpX"
   },
   "outputs": [],
   "source": [
    "tuple() is tuple()"
   ]
  },
  {
   "cell_type": "markdown",
   "metadata": {
    "id": "GeTA_nFSHqOI"
   },
   "source": [
    "while two empty lists won't, since lists are mutable (and the two empty list instances may be changed in a different way):"
   ]
  },
  {
   "cell_type": "code",
   "execution_count": null,
   "metadata": {
    "id": "s1TzcRMwHofA"
   },
   "outputs": [],
   "source": [
    "list() is list()"
   ]
  },
  {
   "cell_type": "markdown",
   "metadata": {
    "id": "D_71MZB0NiOP"
   },
   "source": [
    "Another important type is dictionary. Dictionaries are key->value mappings with a restriction that keys can only be immutable objects.\n",
    "\n",
    "Several ways to create and fill a dictionary:"
   ]
  },
  {
   "cell_type": "code",
   "execution_count": null,
   "metadata": {
    "id": "v6WfRilNHuWR"
   },
   "outputs": [],
   "source": [
    "dict1 = {\"foo\" : 'bar', -3 : False}\n",
    "dict2 = dict(foo='bar', hello='world')\n",
    "\n",
    "print(dict1)\n",
    "print(dict2)"
   ]
  },
  {
   "cell_type": "markdown",
   "metadata": {
    "id": "2SELmRyoOe3_"
   },
   "source": [
    "Accessing elements:"
   ]
  },
  {
   "cell_type": "code",
   "execution_count": null,
   "metadata": {
    "id": "Nmmm2ErNObj7"
   },
   "outputs": [],
   "source": [
    "print(dict1[-3])\n",
    "print(dict2['foo'])\n",
    "\n",
    "dict2['new_key'] = 'new_value'\n",
    "print(dict2)"
   ]
  },
  {
   "cell_type": "markdown",
   "metadata": {
    "id": "EVScmD0WOx7Y"
   },
   "source": [
    "### Loops, conditionals, functions"
   ]
  },
  {
   "cell_type": "markdown",
   "metadata": {
    "id": "tFQEd2ylO-8A"
   },
   "source": [
    "A loop over elements of a list:"
   ]
  },
  {
   "cell_type": "code",
   "execution_count": null,
   "metadata": {
    "id": "_yO1tD-mOt5V"
   },
   "outputs": [],
   "source": [
    "objects = [1, 2, 'hello', False]\n",
    "\n",
    "for obj in objects:\n",
    "    print(obj)\n",
    "  # Note that the body of the loop is indented."
   ]
  },
  {
   "cell_type": "markdown",
   "metadata": {
    "id": "IcEDJVcgj0S1"
   },
   "source": [
    "You can run `for` loop over any iterable (i.e. any object representing a collection of other objects, or, more technically, any object for which method `__iter__()` is defined). E.g. lists, tuples and dictionaries are all iterables."
   ]
  },
  {
   "cell_type": "markdown",
   "metadata": {
    "id": "8qd7noUBPfiY"
   },
   "source": [
    "Use the `range` function to iterate over spcified range of numbers:"
   ]
  },
  {
   "cell_type": "code",
   "execution_count": null,
   "metadata": {
    "id": "dmCu-COkPVJ5"
   },
   "outputs": [],
   "source": [
    "for i in range(5):\n",
    "    print(i)"
   ]
  },
  {
   "cell_type": "markdown",
   "metadata": {
    "id": "-XwmCqJRQEZB"
   },
   "source": [
    "N.B.: `range` has more arguments. Place the cursor right after the opening bracket, erase the bracket and type it back in:"
   ]
  },
  {
   "cell_type": "code",
   "execution_count": null,
   "metadata": {
    "id": "jsnZXCXWQDDl"
   },
   "outputs": [],
   "source": [
    "for i in range(# <--- erase and type back in\n",
    "               # the opening bracket symbol\n",
    "# YOUR CODE HERE:\n",
    "# print all the numbers: 20, 23, 26... up to 60"
   ]
  },
  {
   "cell_type": "markdown",
   "metadata": {
    "id": "ZikK4DnZQqqW"
   },
   "source": [
    "Conditions:"
   ]
  },
  {
   "cell_type": "code",
   "execution_count": null,
   "metadata": {
    "id": "mpk_kkcIQqQf"
   },
   "outputs": [],
   "source": [
    "for i in range(100):\n",
    "    if i % 7 == 1 and i % 5 == 3:\n",
    "        print(\"i % 7 == 1 and i % 5 == 3:\", i)\n",
    "    if not (i > 3) or i > 98:\n",
    "        print(\"not (i > 3) or i > 98:\", i)"
   ]
  },
  {
   "cell_type": "code",
   "execution_count": null,
   "metadata": {
    "id": "zOolnUZeOMdc"
   },
   "outputs": [],
   "source": [
    "array1 = [3, 15, 27, 42]\n",
    "array2 = []\n",
    "\n",
    "for i in range(30):\n",
    "    if i in array1:\n",
    "        array2.append(i**2)\n",
    "\n",
    "print(array2)"
   ]
  },
  {
   "cell_type": "markdown",
   "metadata": {
    "id": "8NITSV_CO0-S"
   },
   "source": [
    "Functions:"
   ]
  },
  {
   "cell_type": "code",
   "execution_count": null,
   "metadata": {
    "id": "Xn5yZ3ZNOt7R"
   },
   "outputs": [],
   "source": [
    "# definition:\n",
    "def some_function(argument1, argument2):\n",
    "    print(argument1 + argument2)\n",
    "\n",
    "# calls:\n",
    "some_function(3, 8)\n",
    "some_function(['foo'], ['bar'])"
   ]
  },
  {
   "cell_type": "markdown",
   "metadata": {
    "id": "0mofkWp6PVTu"
   },
   "source": [
    "Arguments with default values:"
   ]
  },
  {
   "cell_type": "code",
   "execution_count": null,
   "metadata": {
    "id": "mm4QBW3DPJlO"
   },
   "outputs": [],
   "source": [
    "def some_function(argument1, argument2=42):\n",
    "    print(\"{} ----- {}\".format(argument1, argument2))\n",
    "\n",
    "some_function(18)\n",
    "some_function(18, 19)\n",
    "some_function(argument2=19, argument1=18)\n",
    "\n",
    "some_function(some_function)\n"
   ]
  },
  {
   "cell_type": "markdown",
   "metadata": {
    "id": "fzt2uWp9bdKL"
   },
   "source": [
    "Function returning a value:"
   ]
  },
  {
   "cell_type": "code",
   "execution_count": null,
   "metadata": {
    "id": "uWBhj7B3bbvN"
   },
   "outputs": [],
   "source": [
    "def square(x):\n",
    "    return x**2\n",
    "\n",
    "for i in range(4):\n",
    "    print(square(i))"
   ]
  },
  {
   "cell_type": "markdown",
   "metadata": {},
   "source": [
    "## python: loading libraries \n",
    "\n",
    "To use a module in a python program it first has to be imported. For example, to import the module `math`, which contains many standard mathematical functions, we can do:"
   ]
  },
  {
   "cell_type": "code",
   "execution_count": null,
   "metadata": {},
   "outputs": [],
   "source": [
    "import math"
   ]
  },
  {
   "cell_type": "markdown",
   "metadata": {},
   "source": [
    "This includes the whole module and makes it available for use later:\n"
   ]
  },
  {
   "cell_type": "code",
   "execution_count": null,
   "metadata": {},
   "outputs": [],
   "source": [
    "import math\n",
    "\n",
    "x = math.cos(2 * math.pi)\n",
    "\n",
    "print(x)"
   ]
  },
  {
   "cell_type": "markdown",
   "metadata": {},
   "source": [
    "We can chose to `import` only a few selected symbols from a module by explicitly listing which ones we want to import:"
   ]
  },
  {
   "cell_type": "code",
   "execution_count": null,
   "metadata": {},
   "outputs": [],
   "source": [
    "from math import cos, pi\n",
    "\n",
    "x = cos(2 * pi)\n",
    "\n",
    "print(x)"
   ]
  },
  {
   "cell_type": "markdown",
   "metadata": {},
   "source": [
    "Using the function `help` we can get a description of each function."
   ]
  },
  {
   "cell_type": "code",
   "execution_count": null,
   "metadata": {},
   "outputs": [],
   "source": [
    "help(cos)"
   ]
  },
  {
   "cell_type": "markdown",
   "metadata": {},
   "source": [
    "In the cell you can call documentation using `Shift-Tab` or more detailed documentation with `Shift-Tab-Tab` with a pointer position in the brackets:\n",
    "![](https://pbs.twimg.com/media/CQBe6eQUkAAvhV_.png)"
   ]
  },
  {
   "cell_type": "markdown",
   "metadata": {},
   "source": [
    "## Executing shell commands\n",
    "\n",
    "You can call any shell (bash) command. \n",
    "\n",
    "This in particular useful to manage your virtual environment using \"`!pip install library`\" command."
   ]
  },
  {
   "cell_type": "code",
   "execution_count": null,
   "metadata": {},
   "outputs": [],
   "source": [
    "# run ls shell command\n",
    "!ls -lah"
   ]
  },
  {
   "cell_type": "code",
   "execution_count": null,
   "metadata": {},
   "outputs": [],
   "source": [
    "!pwd"
   ]
  },
  {
   "cell_type": "markdown",
   "metadata": {},
   "source": [
    "## Magic\n",
    "\n",
    "Magics are turning simple python into *magical* python. Magics are the key to power of this tool."
   ]
  },
  {
   "cell_type": "code",
   "execution_count": null,
   "metadata": {},
   "outputs": [],
   "source": [
    "# list available python magics\n",
    "%lsmagic"
   ]
  },
  {
   "cell_type": "code",
   "execution_count": null,
   "metadata": {},
   "outputs": [],
   "source": [
    "%%time\n",
    "# above magic command provides time information of executing all code in the cell\n",
    "x = 1"
   ]
  },
  {
   "cell_type": "markdown",
   "metadata": {},
   "source": [
    "## See the source of python functions / classes / whatever with question mark (?, ??)"
   ]
  },
  {
   "cell_type": "code",
   "execution_count": null,
   "metadata": {},
   "outputs": [],
   "source": [
    "from collections import Counter\n",
    "# show the sources of function/class/object in the pop-up window\n",
    "Counter??"
   ]
  },
  {
   "cell_type": "code",
   "execution_count": null,
   "metadata": {},
   "outputs": [],
   "source": [
    "# you can use ? to get details about magics, for instance:\n",
    "%%time?"
   ]
  },
  {
   "cell_type": "markdown",
   "metadata": {
    "id": "AQVipi_9SDBR"
   },
   "source": [
    "# Tasks"
   ]
  },
  {
   "cell_type": "markdown",
   "metadata": {
    "id": "oB-AV1muSlVP"
   },
   "source": [
    "## Task 1"
   ]
  },
  {
   "cell_type": "markdown",
   "metadata": {
    "id": "a57M3R8qQpTr"
   },
   "source": [
    "Now you should be equipped well enough to solve this famous job interview problem:\n",
    "\n",
    "\n",
    "\n",
    "> Write a function called `FooBar` that takes input integer `n` and for all the numbers from 1 upto `n` prints in a new line:\n",
    "*   \"Foo\", if the number is divisible by 3;\n",
    "*   \"Bar\", if the number is divisible by 5;\n",
    "*   \"FooBar\", if the number is divisible by both 3 and 5;\n",
    "*   the number itself otherwise.\n",
    "\n",
    "> For example FooBar(15) should print as follows: \n",
    "```1 \n",
    "2 \n",
    "Foo \n",
    "4 \n",
    "Bar \n",
    "Foo \n",
    "7 \n",
    "8 \n",
    "Foo \n",
    "Bar \n",
    "11 \n",
    "Foo \n",
    "13 \n",
    "14 \n",
    "FooBar\n",
    "```\n",
    "\n",
    "\n",
    "\n",
    "\n",
    "\n"
   ]
  },
  {
   "cell_type": "code",
   "execution_count": null,
   "metadata": {
    "id": "_zd8CQzEPwKk"
   },
   "outputs": [],
   "source": [
    "# Your code here"
   ]
  },
  {
   "cell_type": "markdown",
   "metadata": {
    "id": "BjLyprScauk5"
   },
   "source": [
    "## Task 2"
   ]
  },
  {
   "cell_type": "markdown",
   "metadata": {
    "id": "NTxZz0UhcHQk"
   },
   "source": [
    "Write a function calculating the factorial of an integer number.\n",
    "\n",
    "*Suggestion: use recursion.*"
   ]
  },
  {
   "cell_type": "code",
   "execution_count": null,
   "metadata": {
    "id": "IhXkCdvDcdaH"
   },
   "outputs": [],
   "source": [
    "# Your code here"
   ]
  },
  {
   "cell_type": "markdown",
   "metadata": {
    "id": "cZ3xv_5Mcfyc"
   },
   "source": [
    "## Task 3"
   ]
  },
  {
   "cell_type": "markdown",
   "metadata": {
    "id": "3pw6Zh7CaxM6"
   },
   "source": [
    "Write a function that takes two numbers `m` and `n`, and a list `array`,  appends `m` to `array` `n` times, and returns the result."
   ]
  },
  {
   "cell_type": "code",
   "execution_count": null,
   "metadata": {
    "id": "YAYd3skXawL7"
   },
   "outputs": [],
   "source": [
    "# Your code here"
   ]
  },
  {
   "cell_type": "markdown",
   "metadata": {
    "id": "cwi1tAOSejh9"
   },
   "source": [
    "Modify the function you wrote such that the `array` argument is optional (the function should append to an empty list in case array is not provided).\n",
    "\n",
    "*Hint: make sure the result is correct when you make several subsequent calls without providing the `array` argument.*"
   ]
  },
  {
   "cell_type": "code",
   "execution_count": null,
   "metadata": {
    "id": "GE6Yh7sCex_Y"
   },
   "outputs": [],
   "source": [
    "# Your code here"
   ]
  }
 ],
 "metadata": {
  "colab": {
   "collapsed_sections": [],
   "include_colab_link": true,
   "name": "Welcome.ipynb",
   "provenance": [],
   "toc_visible": true
  },
  "kernelspec": {
   "display_name": "Python 3",
   "language": "python",
   "name": "python3"
  },
  "language_info": {
   "codemirror_mode": {
    "name": "ipython",
    "version": 3
   },
   "file_extension": ".py",
   "mimetype": "text/x-python",
   "name": "python",
   "nbconvert_exporter": "python",
   "pygments_lexer": "ipython3",
   "version": "3.8.3"
  }
 },
 "nbformat": 4,
 "nbformat_minor": 1
}
